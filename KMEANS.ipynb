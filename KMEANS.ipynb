{
  "nbformat": 4,
  "nbformat_minor": 0,
  "metadata": {
    "kernelspec": {
      "display_name": "Python 3",
      "language": "python",
      "name": "python3"
    },
    "language_info": {
      "codemirror_mode": {
        "name": "ipython",
        "version": 3
      },
      "file_extension": ".py",
      "mimetype": "text/x-python",
      "name": "python",
      "nbconvert_exporter": "python",
      "pygments_lexer": "ipython3",
      "version": "3.7.4"
    },
    "colab": {
      "name": "KMEANS.ipynb",
      "provenance": [],
      "collapsed_sections": [],
      "toc_visible": true
    }
  },
  "cells": [
    {
      "cell_type": "code",
      "metadata": {
        "id": "zLB5jvinjJ4A",
        "colab": {
          "base_uri": "https://localhost:8080/",
          "height": 255
        },
        "outputId": "0f16f05a-c1c1-4cdd-f201-15f84048fd38"
      },
      "source": [
        "!pip install pyspark"
      ],
      "execution_count": null,
      "outputs": [
        {
          "output_type": "stream",
          "text": [
            "Collecting pyspark\n",
            "\u001b[?25l  Downloading https://files.pythonhosted.org/packages/f0/26/198fc8c0b98580f617cb03cb298c6056587b8f0447e20fa40c5b634ced77/pyspark-3.0.1.tar.gz (204.2MB)\n",
            "\u001b[K     |████████████████████████████████| 204.2MB 77kB/s \n",
            "\u001b[?25hCollecting py4j==0.10.9\n",
            "\u001b[?25l  Downloading https://files.pythonhosted.org/packages/9e/b6/6a4fb90cd235dc8e265a6a2067f2a2c99f0d91787f06aca4bcf7c23f3f80/py4j-0.10.9-py2.py3-none-any.whl (198kB)\n",
            "\u001b[K     |████████████████████████████████| 204kB 38.8MB/s \n",
            "\u001b[?25hBuilding wheels for collected packages: pyspark\n",
            "  Building wheel for pyspark (setup.py) ... \u001b[?25l\u001b[?25hdone\n",
            "  Created wheel for pyspark: filename=pyspark-3.0.1-py2.py3-none-any.whl size=204612243 sha256=ddebcfe971a9d2bff6fe73f41f72a034765dfd525a0d4d7b4d0b850f16d69537\n",
            "  Stored in directory: /root/.cache/pip/wheels/5e/bd/07/031766ca628adec8435bb40f0bd83bb676ce65ff4007f8e73f\n",
            "Successfully built pyspark\n",
            "Installing collected packages: py4j, pyspark\n",
            "Successfully installed py4j-0.10.9 pyspark-3.0.1\n"
          ],
          "name": "stdout"
        }
      ]
    },
    {
      "cell_type": "code",
      "metadata": {
        "id": "P7tyjFqFjg_6",
        "colab": {
          "base_uri": "https://localhost:8080/",
          "height": 34
        },
        "outputId": "d85821db-8d5e-417c-e6a8-5b3a3f9b70ee"
      },
      "source": [
        "from google.colab import drive\n",
        "drive.mount('/content/drive')"
      ],
      "execution_count": null,
      "outputs": [
        {
          "output_type": "stream",
          "text": [
            "Mounted at /content/drive\n"
          ],
          "name": "stdout"
        }
      ]
    },
    {
      "cell_type": "code",
      "metadata": {
        "id": "gqIDzmcV_isd"
      },
      "source": [
        "# import libraries\n",
        "import os\n",
        "import math\n",
        "import shutil\n",
        "from scipy.spatial import distance as spa\n",
        "import sys\n",
        "from operator import add\n",
        "import itertools\n",
        "import numpy as np\n",
        "import random\n",
        "import time as time\n",
        "from pyspark import SparkContext\n",
        "import matplotlib.pyplot as plt \n",
        "import matplotlib.ticker as ticker\n",
        "\n",
        "font = {'family' : 'Times New Roman',\n",
        "        'size'   : 18}    \n",
        "plt.rc('font', **font)\n",
        "\n",
        "import matplotlib as mpl"
      ],
      "execution_count": null,
      "outputs": []
    },
    {
      "cell_type": "code",
      "metadata": {
        "id": "r5etPpezlNiJ"
      },
      "source": [
        "# initialize the spark context\n",
        "sc = SparkContext(appName=\"Spark Apriori\")"
      ],
      "execution_count": null,
      "outputs": []
    },
    {
      "cell_type": "code",
      "metadata": {
        "id": "mqGC5cp8nmK8"
      },
      "source": [
        "path = \"/content/drive/My Drive/data.txt\"\n",
        "\n",
        "data = np.genfromtxt(path)\n",
        "n_examples, n_features = data.shape\n",
        "\n",
        "kc = 10 # number of clusters\n",
        "max_iterations = 20 # maximum number of iterations"
      ],
      "execution_count": null,
      "outputs": []
    },
    {
      "cell_type": "code",
      "metadata": {
        "id": "IW9sGHFZYrPf",
        "colab": {
          "base_uri": "https://localhost:8080/",
          "height": 87
        },
        "outputId": "42e7a3bb-beee-47bc-e688-5e2972655d6e"
      },
      "source": [
        "# import the data\n",
        "data_rdd = sc.textFile(path,2)\n",
        "# data_rdd = sc.parallelize(data,2)\n",
        "\n",
        "# count the total number of baskets\n",
        "print('Total number of examples = ', data_rdd.count())\n",
        "\n",
        "datafloat = data_rdd.map(lambda line: ([float(item) for item in line.strip().split(' ')]))\n",
        "datazipped = datafloat.zipWithIndex().map(lambda x: (x[1],x[0]))\n",
        "\n",
        "for val in datazipped.take(2):\n",
        "  print(val)"
      ],
      "execution_count": null,
      "outputs": [
        {
          "output_type": "stream",
          "text": [
            "Total number of examples =  4601\n",
            "(0, [0.0, 0.64, 0.64, 0.0, 0.32, 0.0, 0.0, 0.0, 0.0, 0.0, 0.0, 0.64, 0.0, 0.0, 0.0, 0.32, 0.0, 1.29, 1.93, 0.0, 0.96, 0.0, 0.0, 0.0, 0.0, 0.0, 0.0, 0.0, 0.0, 0.0, 0.0, 0.0, 0.0, 0.0, 0.0, 0.0, 0.0, 0.0, 0.0, 0.0, 0.0, 0.0, 0.0, 0.0, 0.0, 0.0, 0.0, 0.0, 0.0, 0.0, 0.0, 0.778, 0.0, 0.0, 3.756, 61.0, 278.0, 1.0])\n",
            "(1, [0.21, 0.28, 0.5, 0.0, 0.14, 0.28, 0.21, 0.07, 0.0, 0.94, 0.21, 0.79, 0.65, 0.21, 0.14, 0.14, 0.07, 0.28, 3.47, 0.0, 1.59, 0.0, 0.43, 0.43, 0.0, 0.0, 0.0, 0.0, 0.0, 0.0, 0.0, 0.0, 0.0, 0.0, 0.0, 0.0, 0.07, 0.0, 0.0, 0.0, 0.0, 0.0, 0.0, 0.0, 0.0, 0.0, 0.0, 0.0, 0.0, 0.132, 0.0, 0.372, 0.18, 0.048, 5.114, 101.0, 1028.0, 1.0])\n"
          ],
          "name": "stdout"
        }
      ]
    },
    {
      "cell_type": "code",
      "metadata": {
        "id": "PxwuV5HsmTHO",
        "colab": {
          "base_uri": "https://localhost:8080/",
          "height": 70
        },
        "outputId": "9094e4ec-9404-45db-b1a1-6c9808cec2ed"
      },
      "source": [
        "def initialize_centroid(data, num_clusters):\n",
        "  sample = sc.parallelize(data.takeSample(False, num_clusters))\n",
        "  centroids = sample.map(lambda x : x[1])\n",
        "  centroids = centroids.zipWithIndex().map(lambda x: (x[1],x[0]))\n",
        "  return centroids\n",
        "\n",
        "centroids = initialize_centroid(datazipped, kc)\n",
        "for item in centroids.take(2):\n",
        "  print(item)\n"
      ],
      "execution_count": null,
      "outputs": [
        {
          "output_type": "stream",
          "text": [
            "(0, [0.0, 1.26, 0.0, 0.0, 0.0, 0.0, 0.0, 0.0, 0.0, 0.0, 0.0, 0.0, 0.0, 0.0, 0.0, 1.26, 0.0, 0.0, 1.26, 0.0, 0.0, 0.0, 0.0, 0.0, 0.0, 0.0, 0.0, 0.0, 0.0, 0.0, 0.0, 0.0, 0.0, 0.0, 0.0, 0.0, 0.0, 0.0, 0.0, 0.0, 0.0, 0.0, 0.0, 0.0, 0.0, 0.0, 0.0, 0.0, 0.0, 0.0, 0.0, 0.416, 0.0, 0.0, 9.785, 42.0, 137.0, 1.0])\n",
            "(1, [0.52, 0.42, 0.35, 0.0, 0.14, 0.03, 0.03, 0.1, 0.56, 0.8, 0.28, 0.7, 0.56, 1.19, 0.03, 0.24, 0.45, 0.0, 3.18, 0.0, 1.47, 0.0, 0.38, 0.63, 0.0, 0.0, 0.0, 0.0, 0.0, 0.0, 0.0, 0.0, 0.0, 0.0, 0.0, 0.0, 0.0, 0.0, 0.0, 0.0, 0.0, 0.0, 0.0, 0.0, 0.07, 0.0, 0.0, 0.0, 0.0, 0.075, 0.0, 0.452, 0.528, 0.116, 6.152, 260.0, 2184.0, 1.0])\n"
          ],
          "name": "stdout"
        }
      ]
    },
    {
      "cell_type": "code",
      "metadata": {
        "id": "3HppaYQlCMfL",
        "colab": {
          "base_uri": "https://localhost:8080/",
          "height": 34
        },
        "outputId": "eebb1ab9-a4b0-45b1-9f83-75e6369e305c"
      },
      "source": [
        "from scipy.spatial import distance\n",
        "a = np.array([1, 0, 0])\n",
        "b = np.array([0, 1, 0])\n",
        "distance.euclidean(a, b)"
      ],
      "execution_count": null,
      "outputs": [
        {
          "output_type": "execute_result",
          "data": {
            "text/plain": [
              "1.4142135623730951"
            ]
          },
          "metadata": {
            "tags": []
          },
          "execution_count": 13
        }
      ]
    },
    {
      "cell_type": "code",
      "metadata": {
        "id": "bvOZMNx_nmwr"
      },
      "source": [
        "def calculate_distance_euclidien(centroid, data_element):\n",
        "    centroid_features = np.array(centroid[1])\n",
        "    data_element_features = np.array(data_element[1])\n",
        "    distance = spa.euclidean(centroid_features, data_element_features)\n",
        "    return (data_element[0], (centroid[0], distance))\n",
        "\n",
        "def calculate_distance_manhattan(centroid, data_element):\n",
        "    centroid_features = np.array(centroid[1])\n",
        "    data_element_features = np.array(data_element[1])\n",
        "    distance = spa.cityblock(centroid_features, data_element_features)\n",
        "    return (data_element[0], (centroid[0], distance))\n",
        "\n",
        "def min_distance(row):\n",
        "    element_index = row[0]\n",
        "    centroids_distances_list = row[1]\n",
        "    minimum_distance = -1\n",
        "    closest_centroid = None\n",
        "    min_centroid_index = -1\n",
        "    for item in centroids_distances_list:\n",
        "        centroid_index = item[0]\n",
        "        distance = item[1]\n",
        "        if (minimum_distance == -1) or (distance < minimum_distance):\n",
        "            minimum_distance = distance\n",
        "            min_centroid_index = centroid_index\n",
        "            closest_centroid = (min_centroid_index, minimum_distance)\n",
        "    return (element_index, closest_centroid)\n",
        "\n",
        "def assign_cluster(centroids, data):\n",
        "  centroids_data = centroids.cartesian(data)\n",
        "  data_centroids_distances = centroids_data.map(lambda x: calculate_distance_euclidien(x[0], x[1]))\n",
        "  data_assignedto_closest_cluster = data_centroids_distances.groupByKey().map(lambda x: (x[0], list(x[1]))).map(lambda x: min_distance(x))\n",
        "\n",
        "  return data_assignedto_closest_cluster\n"
      ],
      "execution_count": null,
      "outputs": []
    },
    {
      "cell_type": "code",
      "metadata": {
        "id": "dup9AdPqs84_"
      },
      "source": [
        "def compute_new_centroid(centroid_index, cluster_elements):\n",
        "    all_cluster_elements = []\n",
        "    for element in cluster_elements:\n",
        "        # element = ([5.4, 3.7, 1.5, 0.2, u'Iris-setosa'], 0.6999999999999994)\n",
        "        all_cluster_elements.append(element[0])\n",
        "    averageArray = list(np.average(all_cluster_elements, axis = 0))\n",
        "    new_centroid = (centroid_index, averageArray)\n",
        "    return new_centroid\n",
        "\n",
        "def compute_new_centroids(dataMinDistance):\n",
        "  dataByCluster = dataMinDistance.join(datazipped).map(lambda x: (x[1][0][0], (x[1][1], x[1][0][1])))\n",
        "  dataByCluster = dataByCluster.groupByKey().map(lambda x: (x[0], list(x[1])))\n",
        "  newCentroids = dataByCluster.map(lambda x: compute_new_centroid(x[0], x[1]))    \n",
        "  return newCentroids\n"
      ],
      "execution_count": null,
      "outputs": []
    },
    {
      "cell_type": "code",
      "metadata": {
        "id": "ZQYfjjdt5xMk"
      },
      "source": [
        "def compute_intracluster_distance(data):\n",
        "  assigned_clusters = data.map(lambda x : x[1])\n",
        "  average_distance_clsuter = assigned_clusters.map(lambda x: (x[0],(x[1],1))).reduceByKey(lambda a,b: (a[0]+b[0], a[1]+b[1]))\n",
        "  average_distance_clsuter = average_distance_clsuter.map(lambda x: x[1][0]/x[1][1])\n",
        "  result = average_distance_clsuter.sum()\n",
        "  return result"
      ],
      "execution_count": null,
      "outputs": []
    },
    {
      "cell_type": "code",
      "metadata": {
        "id": "8mPzhOK4tfT8",
        "colab": {
          "base_uri": "https://localhost:8080/",
          "height": 370
        },
        "outputId": "6e1bcdc4-7a1c-4d5e-e9f1-e2065807873a"
      },
      "source": [
        "iterations = 0\n",
        "results = np.zeros((max_iterations,3))\n",
        "start = time.time()\n",
        "while iterations < max_iterations:\n",
        "  iterations += 1\n",
        "\n",
        "  # assign each data element to closest cluster\n",
        "  data_assignedto_closest_cluster =  assign_cluster(centroids, datazipped)\n",
        "\n",
        "  # compute new centroid\n",
        "  new_centroids = compute_new_centroids(data_assignedto_closest_cluster)\n",
        "\n",
        "  # compute average intracluster distance \n",
        "  intra_cluster_distance = compute_intracluster_distance(data_assignedto_closest_cluster)\n",
        "  \n",
        "  # compute normalized cost function\n",
        "  assigned_clusters = data_assignedto_closest_cluster.map(lambda x : x[1][1])\n",
        "  cost = assigned_clusters.sum()/n_examples\n",
        "\n",
        "  # print the cost function\n",
        "  print('iteration # %.1d : %.3f' %(iterations, cost))\n",
        "\n",
        "  # store the cost function for plotting\n",
        "  results[iterations-1,:] = np.array([iterations, intra_cluster_distance, cost])\n",
        "\n",
        "  # update centroid with the new centroid\n",
        "  centroids = sc.parallelize(new_centroids.collect())\n",
        "\n",
        "print('Total CPU time = %.3f' %(time.time() - start))\n"
      ],
      "execution_count": null,
      "outputs": [
        {
          "output_type": "stream",
          "text": [
            "iteration # 1 : 72.058\n",
            "iteration # 2 : 71.948\n",
            "iteration # 3 : 71.846\n",
            "iteration # 4 : 71.881\n",
            "iteration # 5 : 71.926\n",
            "iteration # 6 : 71.873\n",
            "iteration # 7 : 71.852\n",
            "iteration # 8 : 71.846\n",
            "iteration # 9 : 71.752\n",
            "iteration # 10 : 71.641\n",
            "iteration # 11 : 71.566\n",
            "iteration # 12 : 71.626\n",
            "iteration # 13 : 71.557\n",
            "iteration # 14 : 71.514\n",
            "iteration # 15 : 71.486\n",
            "iteration # 16 : 71.420\n",
            "iteration # 17 : 71.335\n",
            "iteration # 18 : 71.186\n",
            "iteration # 19 : 71.041\n",
            "iteration # 20 : 70.981\n",
            "Total CPU time = 55.384\n"
          ],
          "name": "stdout"
        }
      ]
    },
    {
      "cell_type": "code",
      "metadata": {
        "id": "rkOB-ej2ARd2",
        "colab": {
          "base_uri": "https://localhost:8080/",
          "height": 424
        },
        "outputId": "84f8d1e3-f4c8-4209-f621-2059dd5a9c29"
      },
      "source": [
        "fig, axs = plt.subplots(1,1,figsize=(8,6))\n",
        "\n",
        "axs.plot(results[:,0], results[:,2], 'ro-', lw=2, ms=12, mew=2, fillstyle='none',  label='Normalized Cost function')\n",
        "# axs[0].plot(results[:,0], results[:,1], 'bo-', label='Intra-cluster distance')\n",
        "\n",
        "axs.grid()\n",
        "axs.set_xlabel('$N$')\n",
        "axs.set_ylabel('$\\phi$')\n",
        "axs.legend(loc=0)\n",
        "# axs[0].set_ylim(1e-8,1e0)\n",
        "axs.set_title('$k$-means clustering')\n",
        "\n",
        "fig.tight_layout()\n",
        "plt.show()\n",
        "\n"
      ],
      "execution_count": null,
      "outputs": [
        {
          "output_type": "display_data",
          "data": {
            "image/png": "[encoded data removed]",
            "text/plain": [
              "<Figure size 576x432 with 1 Axes>"
            ]
          },
          "metadata": {
            "tags": [],
            "needs_background": "light"
          }
        }
      ]
    }
  ]
}